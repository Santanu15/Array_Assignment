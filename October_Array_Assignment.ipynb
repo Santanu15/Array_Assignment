{
 "cells": [
  {
   "cell_type": "code",
   "execution_count": null,
   "id": "92d16be5-d7d3-424e-89e7-47b07cfea703",
   "metadata": {},
   "outputs": [],
   "source": []
  },
  {
   "cell_type": "code",
   "execution_count": 1,
   "id": "5dd20324-ee52-481c-a160-ae4bce471c1e",
   "metadata": {},
   "outputs": [],
   "source": [
    "#1.Given an array, check if it contains any duplicates or not.\n",
    "#arr = [1, 2, 4, 2, 5, 9]\n",
    "#Output = True"
   ]
  },
  {
   "cell_type": "code",
   "execution_count": 3,
   "id": "07f6b922-53a9-466d-8650-7465d1f28727",
   "metadata": {},
   "outputs": [
    {
     "name": "stdout",
     "output_type": "stream",
     "text": [
      "True\n"
     ]
    }
   ],
   "source": [
    "def find_duplicates(arr):\n",
    "    \n",
    "    n=len(arr)\n",
    "    for i in range(n):\n",
    "        for j in range(i+1,n):\n",
    "            if arr[i]==arr[j]:\n",
    "                return True\n",
    "    \n",
    "    return False\n",
    "        \n",
    "       \n",
    "arr=[1,2,4,2,5,9]\n",
    "print(find_duplicates(arr))"
   ]
  },
  {
   "cell_type": "code",
   "execution_count": null,
   "id": "fdf9ce70-0edc-4ac6-83e1-6ae7ac547e7b",
   "metadata": {},
   "outputs": [],
   "source": []
  },
  {
   "cell_type": "code",
   "execution_count": 5,
   "id": "a39a3c46-7a94-49cd-89e5-876bf0f1d6fd",
   "metadata": {},
   "outputs": [],
   "source": [
    "#2. Given an array and an integer k, rotate the array to the right by k steps.\n",
    "#arr = [1, 2, 3, 4, 5, 6, 7] , k = 3\n",
    "#Output = [5, 6, 7, 1, 2, 3, 4]"
   ]
  },
  {
   "cell_type": "code",
   "execution_count": 6,
   "id": "8275fac7-66aa-4385-9e49-7f7eed15e6a5",
   "metadata": {},
   "outputs": [
    {
     "name": "stdout",
     "output_type": "stream",
     "text": [
      "[5, 6, 7, 1, 2, 3, 4]\n"
     ]
    }
   ],
   "source": [
    "def rotate_array(arr,k):\n",
    "    k=3\n",
    "    n=len(arr)\n",
    "    r=arr[-k: ] + arr[ :-k]\n",
    "    return r\n",
    "\n",
    "\n",
    "arr=[1, 2, 3, 4, 5, 6, 7]\n",
    "print(rotate_array(arr,3))"
   ]
  },
  {
   "cell_type": "code",
   "execution_count": null,
   "id": "e5fa7298-c76a-46a8-bc72-fc90d16cd904",
   "metadata": {},
   "outputs": [],
   "source": []
  },
  {
   "cell_type": "code",
   "execution_count": null,
   "id": "59d39314-15c6-4c5c-8c6f-fc8b084e7c5a",
   "metadata": {},
   "outputs": [],
   "source": [
    "#3. Reverse the given array in-place, means without using any extra data structure.\n",
    "#arr = [2, 4, 5, 7, 9, 12]\n",
    "#Output = [12, 9, 7, 5, 4, 2]"
   ]
  },
  {
   "cell_type": "code",
   "execution_count": 7,
   "id": "7d593b24-cb77-49db-be82-f564d699ade3",
   "metadata": {},
   "outputs": [
    {
     "name": "stdout",
     "output_type": "stream",
     "text": [
      "[12, 9, 7, 5, 4, 2]\n"
     ]
    }
   ],
   "source": [
    "\n",
    "def reverse(arr):\n",
    "    return arr[ : :-1]\n",
    "\n",
    "    \n",
    "    \n",
    "\n",
    "arr=[2, 4, 5, 7, 9, 12]\n",
    "print(reverse(arr))\n"
   ]
  },
  {
   "cell_type": "code",
   "execution_count": null,
   "id": "661faecf-ccad-49f5-8473-e690d7fb1d53",
   "metadata": {},
   "outputs": [],
   "source": []
  },
  {
   "cell_type": "code",
   "execution_count": null,
   "id": "fad554af-a2a6-4dd0-b4b6-6170140543f0",
   "metadata": {},
   "outputs": [],
   "source": [
    "#4. Given an array of integers, find the maximum element in an array\n",
    "#arr = [10, 5, 20, 8, 15]\n",
    "#Output = 20"
   ]
  },
  {
   "cell_type": "code",
   "execution_count": 8,
   "id": "4ceea175-be13-4208-b372-f134c04c051d",
   "metadata": {},
   "outputs": [
    {
     "name": "stdout",
     "output_type": "stream",
     "text": [
      "20\n"
     ]
    }
   ],
   "source": [
    "def find_max(arr):\n",
    "    return max(arr)\n",
    "\n",
    "\n",
    "\n",
    "arr=[10, 5, 20, 8, 15]\n",
    "print(find_max(arr))"
   ]
  },
  {
   "cell_type": "code",
   "execution_count": null,
   "id": "8a1e26a3-6ca5-4fd6-98c2-ead6933a645a",
   "metadata": {},
   "outputs": [],
   "source": []
  },
  {
   "cell_type": "code",
   "execution_count": null,
   "id": "412fff1a-39fc-4884-bd63-68160d44cede",
   "metadata": {},
   "outputs": [],
   "source": []
  },
  {
   "cell_type": "code",
   "execution_count": null,
   "id": "ea3408c4-10bb-49db-899e-6ff307cad485",
   "metadata": {},
   "outputs": [],
   "source": []
  },
  {
   "cell_type": "code",
   "execution_count": null,
   "id": "8a247265-be18-4d75-ac44-e6b48cae756b",
   "metadata": {},
   "outputs": [],
   "source": []
  },
  {
   "cell_type": "code",
   "execution_count": null,
   "id": "f6e73add-7b95-414c-9733-92e7236ecc50",
   "metadata": {},
   "outputs": [],
   "source": []
  },
  {
   "cell_type": "code",
   "execution_count": null,
   "id": "4bb47f5e-b122-48ab-91c3-d03d173c327d",
   "metadata": {},
   "outputs": [],
   "source": []
  }
 ],
 "metadata": {
  "kernelspec": {
   "display_name": "Python 3 (ipykernel)",
   "language": "python",
   "name": "python3"
  },
  "language_info": {
   "codemirror_mode": {
    "name": "ipython",
    "version": 3
   },
   "file_extension": ".py",
   "mimetype": "text/x-python",
   "name": "python",
   "nbconvert_exporter": "python",
   "pygments_lexer": "ipython3",
   "version": "3.10.8"
  }
 },
 "nbformat": 4,
 "nbformat_minor": 5
}
